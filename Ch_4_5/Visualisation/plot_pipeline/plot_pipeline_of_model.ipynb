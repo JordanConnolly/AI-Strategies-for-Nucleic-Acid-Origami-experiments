{
 "cells": [
  {
   "cell_type": "code",
   "execution_count": 47,
   "outputs": [
    {
     "name": "stdout",
     "output_type": "stream",
     "text": [
      "correlations are removed (80%+ Pearson Correlated Features Removed) \n",
      "and the instances are stratified to ensure each cross-validation fold \n",
      "has an even distribution of the predictor \n",
      "prior to the use of the model\n"
     ]
    }
   ],
   "source": [
    "import pandas as pd\n",
    "import numpy as np\n",
    "from functools import reduce\n",
    "from sklearn.model_selection import GridSearchCV, KFold\n",
    "from sklearn.linear_model import Lasso, ElasticNet, LinearRegression, Ridge\n",
    "from sklearn.ensemble import ExtraTreesRegressor\n",
    "from sklearn.metrics import mean_squared_error, r2_score, mean_absolute_error, median_absolute_error\n",
    "from sklearn.pipeline import Pipeline, make_pipeline\n",
    "from sklearn.impute import SimpleImputer\n",
    "from sklearn.preprocessing import StandardScaler, OneHotEncoder\n",
    "from sklearn.compose import ColumnTransformer\n",
    "from sklearn.feature_selection import RFE, SelectKBest, f_regression, chi2\n",
    "from sklearn import decomposition\n",
    "from numpy.random import lognormal\n",
    "import matplotlib.pyplot as plt\n",
    "from scipy.stats import lognorm\n",
    "import sklearn\n",
    "import seaborn as sns\n",
    "import csv\n",
    "import shap\n",
    "import random\n",
    "import pickle\n",
    "import os\n",
    "from textwrap import wrap\n",
    "from pathlib import Path\n",
    "\n",
    "# Pandas and Numpy Options\n",
    "cwd = os.getcwd()\n",
    "pd.set_option('display.max_rows', 300, 'display.max_columns', 100)\n",
    "pd.set_option('use_inf_as_na', True)\n",
    "np.seterr(divide='ignore', invalid='ignore')\n",
    "\n",
    "# Set Random Seed\n",
    "seed_numbers = list(range(1, 1000))\n",
    "random.Random(1337).shuffle(seed_numbers)\n",
    "\n",
    "print(\"correlations are removed (80%+ Pearson Correlated Features Removed) \\n\"\n",
    "      \"and the instances are stratified to ensure each cross-validation fold \\n\"\n",
    "      \"has an even distribution of the predictor \\n\"\n",
    "      \"prior to the use of the model\")"
   ],
   "metadata": {
    "collapsed": false,
    "pycharm": {
     "name": "#%%\n"
    }
   }
  },
  {
   "cell_type": "code",
   "execution_count": 48,
   "outputs": [],
   "source": [
    "# import the data set\n",
    "data_set_file_path = cwd + '/subset_1_all_literature_high_cardinal_removed_ml_data_set.csv'\n",
    "data_set = pd.read_csv(data_set_file_path)\n",
    "# Remove all Experiments with Anomalous Mg values\n",
    "data_set = data_set[~data_set['Paper Number'].isin(['8', '46', '48', '59', '71', '85', '96', '98'])]\n",
    "\n",
    "new_data_set = pd.DataFrame()"
   ],
   "metadata": {
    "collapsed": false,
    "pycharm": {
     "name": "#%%\n"
    }
   }
  },
  {
   "cell_type": "code",
   "execution_count": 49,
   "outputs": [],
   "source": [
    "# which rep is performed\n",
    "rep = 1\n",
    "number_of_splits = 3\n",
    "seed_number = seed_numbers[rep]\n",
    "\n",
    "experiment_name = \"Extra_Trees_RFE_3CV_Stratified_Baseline\"\n",
    "scoring = \"r2\"\n",
    "\n",
    "# Actual Machine Learning Script for Regression Problem\n",
    "ETR = ExtraTreesRegressor(random_state=seed_number, n_jobs=-1)\n",
    "\n",
    "# Parameter Grid dictionary\n",
    "parameters = {}\n",
    "# Parameter Grid for ETR / RFR\n",
    "parameters.update({'estimator__n_estimators': [10, 100, 200, 500]})\n",
    "parameters.update({'estimator__max_depth': [None, 1, 2, 3, 4, 5]})\n",
    "\n",
    "# Parameter Grid for RFE\n",
    "parameters.update({\"rfe__n_features_to_select\": [1, 5, 10, 20, 25]})\n",
    "\n",
    "# # Recursive Elimination for Regression Models\n",
    "estimator = ExtraTreesRegressor(random_state=seed_number, n_jobs=-1)\n",
    "recurse = RFE(estimator=estimator, step=0.1)  # Set step to 0-1 for percentage of features removed per iter\n",
    "\n",
    "# One-hot pipeline added\n",
    "numeric_transformer = Pipeline(steps=[\n",
    "    ('imputer', SimpleImputer(strategy='median', missing_values=np.NaN)),\n",
    "    ('scaler', StandardScaler())\n",
    "])\n",
    "categorical_transformer = Pipeline(steps=[\n",
    "    ('imputer', SimpleImputer(strategy='most_frequent', missing_values=np.NaN)),\n",
    "    ('onehot', OneHotEncoder(handle_unknown='ignore'))\n",
    "])\n",
    "\n",
    "# Stored lists of the numeric and categorical columns using the pandas dtype method.\n",
    "numeric_features = new_data_set.select_dtypes(include=['int64', 'float64']).columns\n",
    "categorical_features = new_data_set.select_dtypes(include=['object']).columns\n",
    "\n",
    "# Column transformers\n",
    "preprocessor = ColumnTransformer(\n",
    "    transformers=[\n",
    "        ('num', numeric_transformer, numeric_features),\n",
    "        ('cat', categorical_transformer, categorical_features)])\n",
    "\n",
    "# Pipeline is called with model\n",
    "rf = Pipeline(steps=[('preprocessor', preprocessor),\n",
    "                     ('rfe', recurse),\n",
    "                     ('estimator', ETR)])\n",
    "\n",
    "inner_cv = KFold(n_splits=number_of_splits, shuffle=True, random_state=1)\n",
    "est_used = GridSearchCV(estimator=rf, param_grid=parameters, cv=inner_cv, scoring=scoring)"
   ],
   "metadata": {
    "collapsed": false,
    "pycharm": {
     "name": "#%%\n"
    }
   }
  },
  {
   "cell_type": "code",
   "execution_count": 50,
   "outputs": [
    {
     "data": {
      "text/plain": "GridSearchCV(cv=KFold(n_splits=3, random_state=1, shuffle=True),\n             estimator=Pipeline(steps=[('preprocessor',\n                                        ColumnTransformer(transformers=[('num',\n                                                                         Pipeline(steps=[('imputer',\n                                                                                          SimpleImputer(strategy='median')),\n                                                                                         ('scaler',\n                                                                                          StandardScaler())]),\n                                                                         Index([], dtype='object')),\n                                                                        ('cat',\n                                                                         Pipeline(steps=[('imputer',\n                                                                                          SimpleImputer(strategy='most_frequent')),\n                                                                                         ('onehot',\n                                                                                          OneHo...dle_unknown='ignore'))]),\n                                                                         Index([], dtype='object'))])),\n                                       ('rfe',\n                                        RFE(estimator=ExtraTreesRegressor(n_jobs=-1,\n                                                                          random_state=311),\n                                            step=0.1)),\n                                       ('estimator',\n                                        ExtraTreesRegressor(n_jobs=-1,\n                                                            random_state=311))]),\n             param_grid={'estimator__max_depth': [None, 1, 2, 3, 4, 5],\n                         'estimator__n_estimators': [10, 100, 200, 500],\n                         'rfe__n_features_to_select': [1, 5, 10, 20, 25]},\n             scoring='r2')",
      "text/html": "<style>#sk-f1f19fae-1f53-443e-883e-aeab29430ff4 {color: black;background-color: white;}#sk-f1f19fae-1f53-443e-883e-aeab29430ff4 pre{padding: 0;}#sk-f1f19fae-1f53-443e-883e-aeab29430ff4 div.sk-toggleable {background-color: white;}#sk-f1f19fae-1f53-443e-883e-aeab29430ff4 label.sk-toggleable__label {cursor: pointer;display: block;width: 100%;margin-bottom: 0;padding: 0.2em 0.3em;box-sizing: border-box;text-align: center;}#sk-f1f19fae-1f53-443e-883e-aeab29430ff4 div.sk-toggleable__content {max-height: 0;max-width: 0;overflow: hidden;text-align: left;background-color: #f0f8ff;}#sk-f1f19fae-1f53-443e-883e-aeab29430ff4 div.sk-toggleable__content pre {margin: 0.2em;color: black;border-radius: 0.25em;background-color: #f0f8ff;}#sk-f1f19fae-1f53-443e-883e-aeab29430ff4 input.sk-toggleable__control:checked~div.sk-toggleable__content {max-height: 200px;max-width: 100%;overflow: auto;}#sk-f1f19fae-1f53-443e-883e-aeab29430ff4 div.sk-estimator input.sk-toggleable__control:checked~label.sk-toggleable__label {background-color: #d4ebff;}#sk-f1f19fae-1f53-443e-883e-aeab29430ff4 div.sk-label input.sk-toggleable__control:checked~label.sk-toggleable__label {background-color: #d4ebff;}#sk-f1f19fae-1f53-443e-883e-aeab29430ff4 input.sk-hidden--visually {border: 0;clip: rect(1px 1px 1px 1px);clip: rect(1px, 1px, 1px, 1px);height: 1px;margin: -1px;overflow: hidden;padding: 0;position: absolute;width: 1px;}#sk-f1f19fae-1f53-443e-883e-aeab29430ff4 div.sk-estimator {font-family: monospace;background-color: #f0f8ff;margin: 0.25em 0.25em;border: 1px dotted black;border-radius: 0.25em;box-sizing: border-box;}#sk-f1f19fae-1f53-443e-883e-aeab29430ff4 div.sk-estimator:hover {background-color: #d4ebff;}#sk-f1f19fae-1f53-443e-883e-aeab29430ff4 div.sk-parallel-item::after {content: \"\";width: 100%;border-bottom: 1px solid gray;flex-grow: 1;}#sk-f1f19fae-1f53-443e-883e-aeab29430ff4 div.sk-label:hover label.sk-toggleable__label {background-color: #d4ebff;}#sk-f1f19fae-1f53-443e-883e-aeab29430ff4 div.sk-serial::before {content: \"\";position: absolute;border-left: 1px solid gray;box-sizing: border-box;top: 2em;bottom: 0;left: 50%;}#sk-f1f19fae-1f53-443e-883e-aeab29430ff4 div.sk-serial {display: flex;flex-direction: column;align-items: center;background-color: white;}#sk-f1f19fae-1f53-443e-883e-aeab29430ff4 div.sk-item {z-index: 1;}#sk-f1f19fae-1f53-443e-883e-aeab29430ff4 div.sk-parallel {display: flex;align-items: stretch;justify-content: center;background-color: white;}#sk-f1f19fae-1f53-443e-883e-aeab29430ff4 div.sk-parallel-item {display: flex;flex-direction: column;position: relative;background-color: white;}#sk-f1f19fae-1f53-443e-883e-aeab29430ff4 div.sk-parallel-item:first-child::after {align-self: flex-end;width: 50%;}#sk-f1f19fae-1f53-443e-883e-aeab29430ff4 div.sk-parallel-item:last-child::after {align-self: flex-start;width: 50%;}#sk-f1f19fae-1f53-443e-883e-aeab29430ff4 div.sk-parallel-item:only-child::after {width: 0;}#sk-f1f19fae-1f53-443e-883e-aeab29430ff4 div.sk-dashed-wrapped {border: 1px dashed gray;margin: 0.2em;box-sizing: border-box;padding-bottom: 0.1em;background-color: white;position: relative;}#sk-f1f19fae-1f53-443e-883e-aeab29430ff4 div.sk-label label {font-family: monospace;font-weight: bold;background-color: white;display: inline-block;line-height: 1.2em;}#sk-f1f19fae-1f53-443e-883e-aeab29430ff4 div.sk-label-container {position: relative;z-index: 2;text-align: center;}#sk-f1f19fae-1f53-443e-883e-aeab29430ff4 div.sk-container {display: inline-block;position: relative;}</style><div id=\"sk-f1f19fae-1f53-443e-883e-aeab29430ff4\" class\"sk-top-container\"><div class=\"sk-container\"><div class=\"sk-item sk-dashed-wrapped\"><div class=\"sk-label-container\"><div class=\"sk-label sk-toggleable\"><input class=\"sk-toggleable__control sk-hidden--visually\" id=\"e346e2f8-c70b-4f76-ae97-08882090b290\" type=\"checkbox\" ><label class=\"sk-toggleable__label\" for=\"e346e2f8-c70b-4f76-ae97-08882090b290\">GridSearchCV</label><div class=\"sk-toggleable__content\"><pre>GridSearchCV(cv=KFold(n_splits=3, random_state=1, shuffle=True),\n             estimator=Pipeline(steps=[('preprocessor',\n                                        ColumnTransformer(transformers=[('num',\n                                                                         Pipeline(steps=[('imputer',\n                                                                                          SimpleImputer(strategy='median')),\n                                                                                         ('scaler',\n                                                                                          StandardScaler())]),\n                                                                         Index([], dtype='object')),\n                                                                        ('cat',\n                                                                         Pipeline(steps=[('imputer',\n                                                                                          SimpleImputer(strategy='most_frequent')),\n                                                                                         ('onehot',\n                                                                                          OneHo...dle_unknown='ignore'))]),\n                                                                         Index([], dtype='object'))])),\n                                       ('rfe',\n                                        RFE(estimator=ExtraTreesRegressor(n_jobs=-1,\n                                                                          random_state=311),\n                                            step=0.1)),\n                                       ('estimator',\n                                        ExtraTreesRegressor(n_jobs=-1,\n                                                            random_state=311))]),\n             param_grid={'estimator__max_depth': [None, 1, 2, 3, 4, 5],\n                         'estimator__n_estimators': [10, 100, 200, 500],\n                         'rfe__n_features_to_select': [1, 5, 10, 20, 25]},\n             scoring='r2')</pre></div></div></div><div class=\"sk-parallel\"><div class=\"sk-parallel-item\"><div class=\"sk-item\"><div class=\"sk-serial\"><div class=\"sk-item\"><div class=\"sk-serial\"><div class=\"sk-item sk-dashed-wrapped\"><div class=\"sk-label-container\"><div class=\"sk-label sk-toggleable\"><input class=\"sk-toggleable__control sk-hidden--visually\" id=\"6c94e506-2b03-40e6-943f-ba3d7c0f2fc7\" type=\"checkbox\" ><label class=\"sk-toggleable__label\" for=\"6c94e506-2b03-40e6-943f-ba3d7c0f2fc7\">preprocessor: ColumnTransformer</label><div class=\"sk-toggleable__content\"><pre>ColumnTransformer(transformers=[('num',\n                                 Pipeline(steps=[('imputer',\n                                                  SimpleImputer(strategy='median')),\n                                                 ('scaler', StandardScaler())]),\n                                 Index([], dtype='object')),\n                                ('cat',\n                                 Pipeline(steps=[('imputer',\n                                                  SimpleImputer(strategy='most_frequent')),\n                                                 ('onehot',\n                                                  OneHotEncoder(handle_unknown='ignore'))]),\n                                 Index([], dtype='object'))])</pre></div></div></div><div class=\"sk-parallel\"><div class=\"sk-parallel-item\"><div class=\"sk-item\"><div class=\"sk-label-container\"><div class=\"sk-label sk-toggleable\"><input class=\"sk-toggleable__control sk-hidden--visually\" id=\"b2e3beff-7613-4c4f-8f01-7f79677ac049\" type=\"checkbox\" ><label class=\"sk-toggleable__label\" for=\"b2e3beff-7613-4c4f-8f01-7f79677ac049\">num</label><div class=\"sk-toggleable__content\"><pre>Index([], dtype='object')</pre></div></div></div><div class=\"sk-serial\"><div class=\"sk-item\"><div class=\"sk-serial\"><div class=\"sk-item\"><div class=\"sk-estimator sk-toggleable\"><input class=\"sk-toggleable__control sk-hidden--visually\" id=\"157acaea-343b-4ede-a241-431887f40681\" type=\"checkbox\" ><label class=\"sk-toggleable__label\" for=\"157acaea-343b-4ede-a241-431887f40681\">SimpleImputer</label><div class=\"sk-toggleable__content\"><pre>SimpleImputer(strategy='median')</pre></div></div></div><div class=\"sk-item\"><div class=\"sk-estimator sk-toggleable\"><input class=\"sk-toggleable__control sk-hidden--visually\" id=\"d53a1994-5a6e-40b7-9fe9-3f5a5c253d35\" type=\"checkbox\" ><label class=\"sk-toggleable__label\" for=\"d53a1994-5a6e-40b7-9fe9-3f5a5c253d35\">StandardScaler</label><div class=\"sk-toggleable__content\"><pre>StandardScaler()</pre></div></div></div></div></div></div></div></div><div class=\"sk-parallel-item\"><div class=\"sk-item\"><div class=\"sk-label-container\"><div class=\"sk-label sk-toggleable\"><input class=\"sk-toggleable__control sk-hidden--visually\" id=\"69f07cbf-0c4e-49ec-a7c4-b0fa5b220733\" type=\"checkbox\" ><label class=\"sk-toggleable__label\" for=\"69f07cbf-0c4e-49ec-a7c4-b0fa5b220733\">cat</label><div class=\"sk-toggleable__content\"><pre>Index([], dtype='object')</pre></div></div></div><div class=\"sk-serial\"><div class=\"sk-item\"><div class=\"sk-serial\"><div class=\"sk-item\"><div class=\"sk-estimator sk-toggleable\"><input class=\"sk-toggleable__control sk-hidden--visually\" id=\"20a93b0e-0fe1-4a7f-b798-9bed1986e1d1\" type=\"checkbox\" ><label class=\"sk-toggleable__label\" for=\"20a93b0e-0fe1-4a7f-b798-9bed1986e1d1\">SimpleImputer</label><div class=\"sk-toggleable__content\"><pre>SimpleImputer(strategy='most_frequent')</pre></div></div></div><div class=\"sk-item\"><div class=\"sk-estimator sk-toggleable\"><input class=\"sk-toggleable__control sk-hidden--visually\" id=\"057296f0-e091-4fd7-86b5-e6e8c9bcfb0e\" type=\"checkbox\" ><label class=\"sk-toggleable__label\" for=\"057296f0-e091-4fd7-86b5-e6e8c9bcfb0e\">OneHotEncoder</label><div class=\"sk-toggleable__content\"><pre>OneHotEncoder(handle_unknown='ignore')</pre></div></div></div></div></div></div></div></div></div></div><div class=\"sk-item sk-dashed-wrapped\"><div class=\"sk-label-container\"><div class=\"sk-label sk-toggleable\"><input class=\"sk-toggleable__control sk-hidden--visually\" id=\"876233c3-1987-4838-95f0-f0f10dd7990f\" type=\"checkbox\" ><label class=\"sk-toggleable__label\" for=\"876233c3-1987-4838-95f0-f0f10dd7990f\">rfe: RFE</label><div class=\"sk-toggleable__content\"><pre>RFE(estimator=ExtraTreesRegressor(n_jobs=-1, random_state=311), step=0.1)</pre></div></div></div><div class=\"sk-parallel\"><div class=\"sk-parallel-item\"><div class=\"sk-item\"><div class=\"sk-serial\"><div class=\"sk-item\"><div class=\"sk-estimator sk-toggleable\"><input class=\"sk-toggleable__control sk-hidden--visually\" id=\"4ab551fc-bff8-4793-add6-121a43371c7a\" type=\"checkbox\" ><label class=\"sk-toggleable__label\" for=\"4ab551fc-bff8-4793-add6-121a43371c7a\">ExtraTreesRegressor</label><div class=\"sk-toggleable__content\"><pre>ExtraTreesRegressor(n_jobs=-1, random_state=311)</pre></div></div></div></div></div></div></div></div><div class=\"sk-item\"><div class=\"sk-estimator sk-toggleable\"><input class=\"sk-toggleable__control sk-hidden--visually\" id=\"5af38142-3dcf-4acf-bdb6-1e9f77f66a0b\" type=\"checkbox\" ><label class=\"sk-toggleable__label\" for=\"5af38142-3dcf-4acf-bdb6-1e9f77f66a0b\">ExtraTreesRegressor</label><div class=\"sk-toggleable__content\"><pre>ExtraTreesRegressor(n_jobs=-1, random_state=311)</pre></div></div></div></div></div></div></div></div></div></div></div></div>"
     },
     "execution_count": 50,
     "metadata": {},
     "output_type": "execute_result"
    }
   ],
   "source": [
    "est_used\n",
    "\n",
    "# note: just take a screen shot and edit the GridSearchCV to state estimator = ExtraTreesRegressor; cv = KFold (cut and add this from above)"
   ],
   "metadata": {
    "collapsed": false,
    "pycharm": {
     "name": "#%%\n"
    }
   }
  }
 ],
 "metadata": {
  "kernelspec": {
   "display_name": "Python 3",
   "language": "python",
   "name": "python3"
  },
  "language_info": {
   "codemirror_mode": {
    "name": "ipython",
    "version": 2
   },
   "file_extension": ".py",
   "mimetype": "text/x-python",
   "name": "python",
   "nbconvert_exporter": "python",
   "pygments_lexer": "ipython2",
   "version": "2.7.6"
  }
 },
 "nbformat": 4,
 "nbformat_minor": 0
}