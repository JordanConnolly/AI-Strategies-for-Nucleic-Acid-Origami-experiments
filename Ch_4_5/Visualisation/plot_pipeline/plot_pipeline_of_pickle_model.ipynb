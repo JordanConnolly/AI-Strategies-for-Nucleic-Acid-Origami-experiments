{
 "cells": [
  {
   "cell_type": "code",
   "execution_count": 2,
   "outputs": [],
   "source": [
    "import os\n",
    "import matplotlib.pyplot as plt\n",
    "import numpy as np\n",
    "import pandas as pd\n",
    "import seaborn as sns\n",
    "from textwrap import wrap\n",
    "from functools import reduce\n",
    "from sklearn.model_selection import GridSearchCV, KFold\n",
    "from sklearn.pipeline import Pipeline\n",
    "import shap\n",
    "import random\n",
    "import pickle\n",
    "from sklearn import set_config\n",
    "\n",
    "# set config to display pipeline as diagram\n",
    "set_config(display=\"diagram\")\n",
    "\n",
    "# print(plt.style.available)\n",
    "plt.style.use('ggplot')  # best so far\n",
    "# plt.style.use('seaborn-whitegrid')\n"
   ],
   "metadata": {
    "collapsed": false,
    "pycharm": {
     "name": "#%%\n"
    }
   }
  },
  {
   "cell_type": "code",
   "execution_count": 3,
   "outputs": [],
   "source": [
    "'''\n",
    "Create the paths to the appropriate stored files\n",
    "'''\n",
    "\n",
    "# Directories containing files\n",
    "cwd = os.getcwd()\n",
    "\n",
    "# load a general regressor model (doesn't matter what the pipeline is of, just that the pipeline is correct)\n",
    "\n",
    "# regressor pickle folder location path (copied to pwd / current directory)\n",
    "regressor_pickle_path = \"Extra_Trees_RFE_3CV_Stratified_Baselinesaved_model_1_fold_1.pkl\"\n",
    "\n",
    "# unpickle the pickled file\n",
    "infile = open(regressor_pickle_path, 'rb')\n",
    "regressor_model = pickle.load(infile)\n",
    "infile.close()\n",
    "\n",
    "print(\"does not show we use params and gridsearchCV\")"
   ],
   "metadata": {
    "collapsed": false,
    "pycharm": {
     "name": "#%%\n"
    }
   }
  },
  {
   "cell_type": "code",
   "execution_count": 4,
   "outputs": [
    {
     "ename": "TypeError",
     "evalue": "'ColumnTransformer' object is not iterable",
     "output_type": "error",
     "traceback": [
      "\u001B[0;31m---------------------------------------------------------------------------\u001B[0m",
      "\u001B[0;31mTypeError\u001B[0m                                 Traceback (most recent call last)",
      "Input \u001B[0;32mIn [4]\u001B[0m, in \u001B[0;36m<cell line: 2>\u001B[0;34m()\u001B[0m\n\u001B[1;32m      1\u001B[0m regressor_pipeline \u001B[38;5;241m=\u001B[39m regressor_model\n\u001B[0;32m----> 2\u001B[0m pipe \u001B[38;5;241m=\u001B[39m \u001B[43mPipeline\u001B[49m\u001B[43m(\u001B[49m\u001B[43mregressor_pipeline\u001B[49m\u001B[43m)\u001B[49m\n\u001B[1;32m      3\u001B[0m pipe\n",
      "File \u001B[0;32m/media/b3044120/Elements/PhD Files/RQ3/graphing_machine_learning_results/venv/lib/python3.8/site-packages/sklearn/utils/validation.py:63\u001B[0m, in \u001B[0;36m_deprecate_positional_args.<locals>._inner_deprecate_positional_args.<locals>.inner_f\u001B[0;34m(*args, **kwargs)\u001B[0m\n\u001B[1;32m     61\u001B[0m extra_args \u001B[38;5;241m=\u001B[39m \u001B[38;5;28mlen\u001B[39m(args) \u001B[38;5;241m-\u001B[39m \u001B[38;5;28mlen\u001B[39m(all_args)\n\u001B[1;32m     62\u001B[0m \u001B[38;5;28;01mif\u001B[39;00m extra_args \u001B[38;5;241m<\u001B[39m\u001B[38;5;241m=\u001B[39m \u001B[38;5;241m0\u001B[39m:\n\u001B[0;32m---> 63\u001B[0m     \u001B[38;5;28;01mreturn\u001B[39;00m \u001B[43mf\u001B[49m\u001B[43m(\u001B[49m\u001B[38;5;241;43m*\u001B[39;49m\u001B[43margs\u001B[49m\u001B[43m,\u001B[49m\u001B[43m \u001B[49m\u001B[38;5;241;43m*\u001B[39;49m\u001B[38;5;241;43m*\u001B[39;49m\u001B[43mkwargs\u001B[49m\u001B[43m)\u001B[49m\n\u001B[1;32m     65\u001B[0m \u001B[38;5;66;03m# extra_args > 0\u001B[39;00m\n\u001B[1;32m     66\u001B[0m args_msg \u001B[38;5;241m=\u001B[39m [\u001B[38;5;124m'\u001B[39m\u001B[38;5;132;01m{}\u001B[39;00m\u001B[38;5;124m=\u001B[39m\u001B[38;5;132;01m{}\u001B[39;00m\u001B[38;5;124m'\u001B[39m\u001B[38;5;241m.\u001B[39mformat(name, arg)\n\u001B[1;32m     67\u001B[0m             \u001B[38;5;28;01mfor\u001B[39;00m name, arg \u001B[38;5;129;01min\u001B[39;00m \u001B[38;5;28mzip\u001B[39m(kwonly_args[:extra_args],\n\u001B[1;32m     68\u001B[0m                                  args[\u001B[38;5;241m-\u001B[39mextra_args:])]\n",
      "File \u001B[0;32m/media/b3044120/Elements/PhD Files/RQ3/graphing_machine_learning_results/venv/lib/python3.8/site-packages/sklearn/pipeline.py:118\u001B[0m, in \u001B[0;36mPipeline.__init__\u001B[0;34m(self, steps, memory, verbose)\u001B[0m\n\u001B[1;32m    116\u001B[0m \u001B[38;5;28mself\u001B[39m\u001B[38;5;241m.\u001B[39mmemory \u001B[38;5;241m=\u001B[39m memory\n\u001B[1;32m    117\u001B[0m \u001B[38;5;28mself\u001B[39m\u001B[38;5;241m.\u001B[39mverbose \u001B[38;5;241m=\u001B[39m verbose\n\u001B[0;32m--> 118\u001B[0m \u001B[38;5;28;43mself\u001B[39;49m\u001B[38;5;241;43m.\u001B[39;49m\u001B[43m_validate_steps\u001B[49m\u001B[43m(\u001B[49m\u001B[43m)\u001B[49m\n",
      "File \u001B[0;32m/media/b3044120/Elements/PhD Files/RQ3/graphing_machine_learning_results/venv/lib/python3.8/site-packages/sklearn/pipeline.py:154\u001B[0m, in \u001B[0;36mPipeline._validate_steps\u001B[0;34m(self)\u001B[0m\n\u001B[1;32m    153\u001B[0m \u001B[38;5;28;01mdef\u001B[39;00m \u001B[38;5;21m_validate_steps\u001B[39m(\u001B[38;5;28mself\u001B[39m):\n\u001B[0;32m--> 154\u001B[0m     names, estimators \u001B[38;5;241m=\u001B[39m \u001B[38;5;28;43mzip\u001B[39;49m\u001B[43m(\u001B[49m\u001B[38;5;241;43m*\u001B[39;49m\u001B[38;5;28;43mself\u001B[39;49m\u001B[38;5;241;43m.\u001B[39;49m\u001B[43msteps\u001B[49m\u001B[43m)\u001B[49m\n\u001B[1;32m    156\u001B[0m     \u001B[38;5;66;03m# validate names\u001B[39;00m\n\u001B[1;32m    157\u001B[0m     \u001B[38;5;28mself\u001B[39m\u001B[38;5;241m.\u001B[39m_validate_names(names)\n",
      "\u001B[0;31mTypeError\u001B[0m: 'ColumnTransformer' object is not iterable"
     ]
    }
   ],
   "source": [
    "regressor_model"
   ],
   "metadata": {
    "collapsed": false,
    "pycharm": {
     "name": "#%%\n"
    }
   }
  }
 ],
 "metadata": {
  "kernelspec": {
   "display_name": "Python 3",
   "language": "python",
   "name": "python3"
  },
  "language_info": {
   "codemirror_mode": {
    "name": "ipython",
    "version": 2
   },
   "file_extension": ".py",
   "mimetype": "text/x-python",
   "name": "python",
   "nbconvert_exporter": "python",
   "pygments_lexer": "ipython2",
   "version": "2.7.6"
  }
 },
 "nbformat": 4,
 "nbformat_minor": 0
}